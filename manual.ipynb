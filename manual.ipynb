{
 "cells": [
  {
   "cell_type": "code",
   "execution_count": 1,
   "metadata": {},
   "outputs": [
    {
     "name": "stdout",
     "output_type": "stream",
     "text": [
      "TableGraph: 已从 /data/workspace/howard/jinglever/competition/2024-FinGLM2-semi-final/cache/table_relations.json 加载表关系图\n"
     ]
    }
   ],
   "source": [
    "import os\n",
    "import json\n",
    "import logging\n",
    "import time\n",
    "import copy\n",
    "\n",
    "from src.log import setup_logger, get_logger\n",
    "import config\n",
    "from agents import agent_rewrite_question, agent_extract_company\n",
    "from workflows import sql_query, check_db_structure\n",
    "from src.utils import show\n",
    "from utils import get_constant_column_list, ajust_org_question\n",
    "from main import process_team_question, process_single_question\n",
    "\n",
    "os.environ['DEBUG'] = '0'\n",
    "os.environ['SHOW_LLM_INPUT_MSG'] = '1'"
   ]
  },
  {
   "cell_type": "code",
   "execution_count": 2,
   "metadata": {},
   "outputs": [
    {
     "name": "stdout",
     "output_type": "stream",
     "text": [
      "{\n",
      "    \"extract_company\": 0,\n",
      "    \"rewrite_question\": 0,\n",
      "    \"check_db_structure\": 0,\n",
      "    \"Sql_query\": 0\n",
      "}\n",
      "所有tokens数: 0\n"
     ]
    }
   ],
   "source": [
    "# 计算tokens数\n",
    "total_usage_tokens = {\n",
    "    agent_extract_company.cfg.name: 0,\n",
    "    agent_rewrite_question.cfg.name: 0,\n",
    "    check_db_structure.name: 0,\n",
    "    sql_query.name: 0,\n",
    "}\n",
    "\n",
    "for q_team in config.all_question:\n",
    "    if \"usage_tokens\" in q_team:\n",
    "        for key in q_team[\"usage_tokens\"]:\n",
    "            if key in total_usage_tokens:\n",
    "                total_usage_tokens[key] += q_team[\"usage_tokens\"][key]\n",
    "\n",
    "print(json.dumps(total_usage_tokens, ensure_ascii=False, indent=4))\n",
    "\n",
    "total_tokens = sum(total_usage_tokens.values())\n",
    "print(f\"所有tokens数: {total_tokens}\")"
   ]
  },
  {
   "cell_type": "markdown",
   "metadata": {},
   "source": [
    "## 跑指定问题"
   ]
  },
  {
   "cell_type": "code",
   "execution_count": 3,
   "metadata": {},
   "outputs": [
    {
     "name": "stderr",
     "output_type": "stream",
     "text": [
      "Building prefix dict from the default dictionary ...\n",
      "Loading model from cache /tmp/jieba.cache\n",
      "Loading model cost 0.563 seconds.\n",
      "Prefix dict has been built successfully.\n"
     ]
    },
    {
     "name": "stdout",
     "output_type": "stream",
     "text": [
      ">>>>> id: tttt----1----28-1-1\n",
      ">>>>> Original Question: 天士力在2020年的最大担保金额是多少？答案需要包含1位小数\n",
      ">>>>> Rewrited Question: 天士力在2020年的最大担保金额是多少？答案需要包含1位小数\n",
      ">>>>> Answer: 1620000000.0元\n",
      ">>>>> Used Time: 1m 5s\n",
      "\n",
      "{\n",
      "  \"id\": \"tttt----1----28-1-1\",\n",
      "  \"question\": \"天士力在2020年的最大担保金额是多少？答案需要包含1位小数\",\n",
      "  \"answer\": \"1620000000.0元\",\n",
      "  \"usage_tokens\": {\n",
      "    \"extract_company\": 142,\n",
      "    \"rewrite_question\": 0,\n",
      "    \"check_db_structure\": 14438,\n",
      "    \"Sql_query\": 12116\n",
      "  },\n",
      "  \"use_time\": \"1m 5s\",\n",
      "  \"facts\": [\n",
      "    \"天士力的关联信息有:[所在数据表是constantdb.secumain;InnerCode(证券内部编码)是1700;CompanyCode(公司代码)是1474;ChiName(中文名称)是天士力医药集团股份有限公司;EngName(英文名称)是Tasly Pharmaceutical Group Co.,Ltd.;SecuCode(证券代码)是600535;ChiNameAbbr(中文名称缩写)是天士力;EngNameAbbr(英文名称缩写)是TASLY;SecuAbbr(证券简称)是天士力;ChiSpelling(拼音证券简称)是TSL;]\"\n",
      "  ],\n",
      "  \"rewrited_question\": \"天士力在2020年的最大担保金额是多少？答案需要包含1位小数\",\n",
      "  \"sql_results\": [\n",
      "    \"查询sql```SELECT MAX(LatestGuaranteeSum) AS MaxGuaranteeAmount FROM astockeventsdb.lc_warrant AS w WHERE w.CompanyCode = 1474 AND DATE(w.InitialInfoPublDate) BETWEEN '2020-01-01' AND '2020-12-31';```\\n查询结果:\\n[{\\\"MaxGuaranteeAmount\\\": 1620000000.0}]\",\n",
      "    \"查询sql```SELECT CAST(MAX(LatestGuaranteeSum) AS DECIMAL(10,1)) AS MaxGuaranteeAmount FROM astockeventsdb.lc_warrant AS w WHERE w.CompanyCode = 1474 AND DATE(w.InitialInfoPublDate) BETWEEN '2020-01-01' AND '2020-12-31';```\\n查询结果:\\n[{\\\"MaxGuaranteeAmount\\\": 999999999.9}]\",\n",
      "    \"查询sql```SELECT FORMAT(MAX(LatestGuaranteeSum), 1) AS MaxGuaranteeAmount FROM astockeventsdb.lc_warrant AS w WHERE w.CompanyCode = 1474 AND DATE(w.InitialInfoPublDate) BETWEEN '2020-01-01' AND '2020-12-31';```\\n查询结果:\\n[{\\\"MaxGuaranteeAmount\\\": \\\"1,620,000,000.0\\\"}]\"\n",
      "  ]\n",
      "}\n"
     ]
    }
   ],
   "source": [
    "t_idx = 0 # team index\n",
    "q_idx = 0 # question index in team\n",
    "config.FLAG_IGNORE_CACHE = True\n",
    "question_team = config.all_question[t_idx]\n",
    "if config.ENABLE_BATCH_MODE:\n",
    "    process_team_question(question_team, t_idx)\n",
    "    show(question_team[\"team\"])\n",
    "else:\n",
    "    process_single_question(question_team, q_idx)\n",
    "    show(question_team[\"team\"][q_idx])\n",
    "with open(config.OUTPUT_DIR+'/all_question.json', 'w', encoding='utf-8') as f:\n",
    "    json.dump(config.all_question, f, ensure_ascii=False, indent=4)  # 添加缩进以便于阅读\n",
    "\n",
    "result_commit = copy.deepcopy(config.all_question)\n",
    "for q_team in result_commit:\n",
    "    if \"usage_tokens\" in q_team:\n",
    "        del q_team[\"usage_tokens\"]\n",
    "    if \"use_time\" in q_team:\n",
    "        del q_team[\"use_time\"]\n",
    "    if \"facts\" in q_team:\n",
    "        del q_team[\"facts\"]\n",
    "    if \"sql_results\" in q_team:\n",
    "        del q_team[\"sql_results\"]\n",
    "    if \"done\" in q_team:\n",
    "        del q_team[\"done\"]\n",
    "    for q_item in q_team[\"team\"]:\n",
    "        if \"usage_tokens\" in q_item:\n",
    "            del q_item[\"usage_tokens\"]\n",
    "        if \"use_time\" in q_item:\n",
    "            del q_item[\"use_time\"]\n",
    "        if \"iterate_num\" in q_item:\n",
    "            del q_item[\"iterate_num\"]\n",
    "        if \"facts\" in q_item:\n",
    "            del q_item[\"facts\"]\n",
    "        if \"rewrited_question\" in q_item:\n",
    "            del q_item[\"rewrited_question\"]\n",
    "        if \"sql_results\" in q_item:\n",
    "            del q_item[\"sql_results\"]\n",
    "\n",
    "with open(config.OUTPUT_DIR+'/Eva_Now_result.json', 'w', encoding='utf-8') as f:\n",
    "    json.dump(result_commit, f, ensure_ascii=False, indent=4)  # 添加缩进以便于阅读"
   ]
  }
 ],
 "metadata": {
  "kernelspec": {
   "display_name": "Python 3 (ipykernel)",
   "language": "python",
   "name": "python3"
  },
  "language_info": {
   "codemirror_mode": {
    "name": "ipython",
    "version": 3
   },
   "file_extension": ".py",
   "mimetype": "text/x-python",
   "name": "python",
   "nbconvert_exporter": "python",
   "pygments_lexer": "ipython3",
   "version": "3.12.2"
  }
 },
 "nbformat": 4,
 "nbformat_minor": 4
}
