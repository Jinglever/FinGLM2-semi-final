{
 "cells": [
  {
   "cell_type": "markdown",
   "metadata": {},
   "source": [
    "### 数据库操作"
   ]
  },
  {
   "cell_type": "code",
   "execution_count": 73,
   "metadata": {},
   "outputs": [
    {
     "name": "stdout",
     "output_type": "stream",
     "text": [
      "{\n",
      "  \"success\": true,\n",
      "  \"data\": [],\n",
      "  \"count\": 0\n",
      "}\n"
     ]
    }
   ],
   "source": [
    "import requests\n",
    "import json\n",
    "import os\n",
    "# import config\n",
    "\n",
    "access_token = os.getenv(\"ZHIPU_ACCESS_TOKEN\", \"\")\n",
    "\n",
    "url = \"https://comm.chatglm.cn/finglm2/api/query\"\n",
    "headers = {\n",
    "    \"Content-Type\": \"application/json\",\n",
    "    \"Authorization\": f\"Bearer {access_token}\"\n",
    "}\n",
    "\n",
    "\n",
    "\n",
    "\n",
    "sql = '''\n",
    "SELECT \n",
    "    DATE(RID) AS EventDate,\n",
    "    EventName,\n",
    "    EmotionDirection\n",
    "FROM \n",
    "    institutiondb.ps_newssecurity\n",
    "WHERE \n",
    "    InnerCode = 1929 \n",
    "    AND EventName IS NOT NULL\n",
    "    AND DATE(RID) BETWEEN '2019-01-01' AND '2019-12-31';\n",
    "'''\n",
    "\n",
    "\n",
    "\n",
    "\n",
    "response = requests.post(url, headers=headers, json={\"sql\": sql, \"limit\": 100})\n",
    "print(json.dumps(response.json(), indent=2, ensure_ascii=False))"
   ]
  },
  {
   "cell_type": "code",
   "execution_count": null,
   "metadata": {},
   "outputs": [],
   "source": []
  },
  {
   "cell_type": "code",
   "execution_count": null,
   "metadata": {},
   "outputs": [],
   "source": [
    "24+12+124"
   ]
  }
 ],
 "metadata": {
  "kernelspec": {
   "display_name": "py312",
   "language": "python",
   "name": "python3"
  },
  "language_info": {
   "codemirror_mode": {
    "name": "ipython",
    "version": 3
   },
   "file_extension": ".py",
   "mimetype": "text/x-python",
   "name": "python",
   "nbconvert_exporter": "python",
   "pygments_lexer": "ipython3",
   "version": "3.12.2"
  }
 },
 "nbformat": 4,
 "nbformat_minor": 2
}
